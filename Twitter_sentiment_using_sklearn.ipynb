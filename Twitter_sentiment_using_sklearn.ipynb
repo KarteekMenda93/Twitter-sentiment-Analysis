{
  "nbformat": 4,
  "nbformat_minor": 0,
  "metadata": {
    "colab": {
      "name": "Twitter sentiment using sklearn.ipynb",
      "provenance": [],
      "collapsed_sections": []
    },
    "kernelspec": {
      "name": "python3",
      "display_name": "Python 3"
    }
  },
  "cells": [
    {
      "cell_type": "markdown",
      "metadata": {
        "id": "ZcrqcwJzUO0y"
      },
      "source": [
        "# sentimental analysis of twitter data using sk learn in python"
      ]
    },
    {
      "cell_type": "code",
      "metadata": {
        "id": "-4PIkdfeUFyZ"
      },
      "source": [
        "import pandas as pd\n",
        "import numpy as np"
      ],
      "execution_count": null,
      "outputs": []
    },
    {
      "cell_type": "code",
      "metadata": {
        "id": "G-avOr6LUzbC"
      },
      "source": [
        "data = pd.read_csv(\"https://raw.githubusercontent.com/laxmimerit/twitter-data/master/twitter30k_cleaned.csv\")"
      ],
      "execution_count": null,
      "outputs": []
    },
    {
      "cell_type": "code",
      "metadata": {
        "id": "jAXud2dNUzdb",
        "outputId": "79bb56c8-4d34-46eb-ca7f-807aa364915d",
        "colab": {
          "base_uri": "https://localhost:8080/",
          "height": 272
        }
      },
      "source": [
        "data.sample"
      ],
      "execution_count": null,
      "outputs": [
        {
          "output_type": "execute_result",
          "data": {
            "text/plain": [
              "<bound method NDFrame.sample of                                                   twitts  sentiment\n",
              "0              robbiebronniman sounds like a great night          1\n",
              "1      damn the person who stolde my wallet may karma...          1\n",
              "2                   greetings from the piano bench photo          1\n",
              "3      drewryanscott i love it i love you haha forget...          1\n",
              "4      kissthestars pretty pretty pretty please pakid...          0\n",
              "...                                                  ...        ...\n",
              "29995    calumfan1 is it in any way related to photoshop          0\n",
              "29996                      swiz_nz really wow thats crap          0\n",
              "29997  at the 2010 lexus hs250h press event again can...          0\n",
              "29998    karmicunderpath ooh now there is a nice thought          1\n",
              "29999  mariap91 i would usually ask you about the sun...          1\n",
              "\n",
              "[30000 rows x 2 columns]>"
            ]
          },
          "metadata": {
            "tags": []
          },
          "execution_count": 3
        }
      ]
    },
    {
      "cell_type": "markdown",
      "metadata": {
        "id": "_AJzGtzUVABt"
      },
      "source": [
        "# Tfidf"
      ]
    },
    {
      "cell_type": "code",
      "metadata": {
        "id": "mam4CeIrUzfX"
      },
      "source": [
        "from sklearn.feature_extraction.text import TfidfVectorizer\n",
        "from sklearn.model_selection import train_test_split\n",
        "from sklearn.svm import LinearSVC\n",
        "from sklearn.metrics import classification_report, confusion_matrix"
      ],
      "execution_count": null,
      "outputs": []
    },
    {
      "cell_type": "code",
      "metadata": {
        "id": "6wi5L92AUzhk"
      },
      "source": [
        "X = data['twitts']\n",
        "y= data['sentiment']\n",
        "\n",
        "\n",
        "vectorizer = TfidfVectorizer(max_features=10000, ngram_range=(1,2))\n",
        "X= vectorizer.fit_transform(X)\n"
      ],
      "execution_count": null,
      "outputs": []
    },
    {
      "cell_type": "code",
      "metadata": {
        "id": "xKnzBy8bUzjX",
        "outputId": "c8183899-08e6-42d2-88a5-b32fcf163bc0",
        "colab": {
          "base_uri": "https://localhost:8080/",
          "height": 50
        }
      },
      "source": [
        "X"
      ],
      "execution_count": null,
      "outputs": [
        {
          "output_type": "execute_result",
          "data": {
            "text/plain": [
              "<30000x10000 sparse matrix of type '<class 'numpy.float64'>'\n",
              "\twith 425198 stored elements in Compressed Sparse Row format>"
            ]
          },
          "metadata": {
            "tags": []
          },
          "execution_count": 7
        }
      ]
    },
    {
      "cell_type": "code",
      "metadata": {
        "id": "wswju557V6kJ"
      },
      "source": [
        "X_train, X_test, y_train, y_test = train_test_split(X, y, test_size = 0.2, random_state = 0)"
      ],
      "execution_count": null,
      "outputs": []
    },
    {
      "cell_type": "code",
      "metadata": {
        "id": "nRb9WsKqV6mq",
        "outputId": "32ccc1f2-d8ce-4031-e7d7-bedf979294cf",
        "colab": {
          "base_uri": "https://localhost:8080/",
          "height": 34
        }
      },
      "source": [
        "X_train.shape"
      ],
      "execution_count": null,
      "outputs": [
        {
          "output_type": "execute_result",
          "data": {
            "text/plain": [
              "(24000, 10000)"
            ]
          },
          "metadata": {
            "tags": []
          },
          "execution_count": 9
        }
      ]
    },
    {
      "cell_type": "code",
      "metadata": {
        "id": "TFWH4p0cV6ol",
        "outputId": "639b9d44-6f11-4bc4-a4e9-b7fd0a19fee0",
        "colab": {
          "base_uri": "https://localhost:8080/",
          "height": 84
        }
      },
      "source": [
        "classifier = LinearSVC()\n",
        "classifier.fit(X_train, y_train)"
      ],
      "execution_count": null,
      "outputs": [
        {
          "output_type": "execute_result",
          "data": {
            "text/plain": [
              "LinearSVC(C=1.0, class_weight=None, dual=True, fit_intercept=True,\n",
              "          intercept_scaling=1, loss='squared_hinge', max_iter=1000,\n",
              "          multi_class='ovr', penalty='l2', random_state=None, tol=0.0001,\n",
              "          verbose=0)"
            ]
          },
          "metadata": {
            "tags": []
          },
          "execution_count": 10
        }
      ]
    },
    {
      "cell_type": "code",
      "metadata": {
        "id": "DtiNWpm0V6q8"
      },
      "source": [
        "y_pred = classifier.predict(X_test)"
      ],
      "execution_count": null,
      "outputs": []
    },
    {
      "cell_type": "code",
      "metadata": {
        "id": "3APu5dF8V6tI",
        "outputId": "5f21735d-f80b-4150-d9af-966d6175225b",
        "colab": {
          "base_uri": "https://localhost:8080/",
          "height": 168
        }
      },
      "source": [
        "print(classification_report(y_test, y_pred))"
      ],
      "execution_count": null,
      "outputs": [
        {
          "output_type": "stream",
          "text": [
            "              precision    recall  f1-score   support\n",
            "\n",
            "           0       0.76      0.73      0.74      3054\n",
            "           1       0.73      0.76      0.74      2946\n",
            "\n",
            "    accuracy                           0.74      6000\n",
            "   macro avg       0.74      0.74      0.74      6000\n",
            "weighted avg       0.74      0.74      0.74      6000\n",
            "\n"
          ],
          "name": "stdout"
        }
      ]
    },
    {
      "cell_type": "code",
      "metadata": {
        "id": "KztacSwaWt8h",
        "outputId": "057abba2-7ab2-45f1-ff80-cb8b2d281708",
        "colab": {
          "base_uri": "https://localhost:8080/",
          "height": 50
        }
      },
      "source": [
        "print(confusion_matrix(y_test, y_pred))"
      ],
      "execution_count": null,
      "outputs": [
        {
          "output_type": "stream",
          "text": [
            "[[2229  825]\n",
            " [ 711 2235]]\n"
          ],
          "name": "stdout"
        }
      ]
    },
    {
      "cell_type": "code",
      "metadata": {
        "id": "BuvbEJGeWt-t",
        "outputId": "24439009-d64d-4b40-c0be-cc51389cbbce",
        "colab": {
          "base_uri": "https://localhost:8080/",
          "height": 34
        }
      },
      "source": [
        "x = 'congratulations on your greatest win'\n",
        "vec = vectorizer.transform([x])\n",
        "classifier.predict(vec)"
      ],
      "execution_count": null,
      "outputs": [
        {
          "output_type": "execute_result",
          "data": {
            "text/plain": [
              "array([1])"
            ]
          },
          "metadata": {
            "tags": []
          },
          "execution_count": 16
        }
      ]
    },
    {
      "cell_type": "markdown",
      "metadata": {
        "id": "Yu3x-2-hXGwI"
      },
      "source": [
        "# positive sentiment"
      ]
    },
    {
      "cell_type": "code",
      "metadata": {
        "id": "sfHszHUvXJGC"
      },
      "source": [
        "import pickle\n",
        "pickle.dump(classifier, open('model', 'wb'))"
      ],
      "execution_count": null,
      "outputs": []
    }
  ]
}